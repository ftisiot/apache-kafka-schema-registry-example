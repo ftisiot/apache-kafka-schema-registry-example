{
 "cells": [
  {
   "attachments": {},
   "cell_type": "markdown",
   "metadata": {},
   "source": [
    "# Produce Messages in Plain JSON"
   ]
  },
  {
   "cell_type": "code",
   "execution_count": null,
   "metadata": {},
   "outputs": [],
   "source": [
    "import env\n",
    "import json\n",
    "\n",
    "# Import required libraries\n",
    "from confluent_kafka import Producer\n",
    "from confluent_kafka.serialization import StringSerializer, SerializationContext, MessageField\n",
    "from confluent_kafka.schema_registry import SchemaRegistryClient\n",
    "from confluent_kafka.schema_registry.avro import AvroSerializer\n",
    "\n",
    "# Configure the Kafka producer\n",
    "conf = {\n",
    "    \"bootstrap.servers\": env.KAFKA_SERVICE_URI,\n",
    "    \"security.protocol\": \"SSL\",\n",
    "    \"ssl.ca.location\": env.CERTIFICATES_FOLDER + \"/ca.pem\",\n",
    "    \"ssl.certificate.location\": env.CERTIFICATES_FOLDER + \"/service.cert\",\n",
    "    \"ssl.key.location\": env.CERTIFICATES_FOLDER + \"/service.key\",\n",
    "    \"client.id\": \"0001\",\n",
    "    \"acks\": 1\n",
    "}\n",
    "\n",
    "# Create the Kafka producer\n",
    "producer = Producer(conf)\n",
    "\n",
    "# Define the message key and payload\n",
    "key = {\"id\":1}\n",
    "payload = {\"name\":\"John\", \"age\":30}\n",
    "\n",
    "# Send the message to the Kafka topic\n",
    "topic = \"demo-topic\"\n",
    "producer.produce(\n",
    "    topic=topic,\n",
    "    key=json.dumps(key).encode('utf-8'),\n",
    "    value=json.dumps(payload).encode('utf-8'),\n",
    ")\n",
    "\n",
    "# Wait for any outstanding messages to be delivered and delivery reports to be received\n",
    "producer.flush()"
   ]
  },
  {
   "attachments": {},
   "cell_type": "markdown",
   "metadata": {},
   "source": [
    "Change the payload, this will break the consumer"
   ]
  },
  {
   "cell_type": "code",
   "execution_count": null,
   "metadata": {},
   "outputs": [],
   "source": [
    "# Define the message key and payload\n",
    "key = {\"id\":1}\n",
    "payload = {\"first name\":\"John\", \"age\":30}\n",
    "\n",
    "# Send the message to the Kafka topic\n",
    "topic = \"demo-topic\"\n",
    "producer.produce(\n",
    "    topic=topic,\n",
    "    key=json.dumps(key).encode('utf-8'),\n",
    "    value=json.dumps(payload).encode('utf-8'),\n",
    ")\n",
    "\n",
    "# Wait for any outstanding messages to be delivered and delivery reports to be received\n",
    "producer.flush()"
   ]
  }
 ],
 "metadata": {
  "kernelspec": {
   "display_name": "Python 3",
   "language": "python",
   "name": "python3"
  },
  "language_info": {
   "codemirror_mode": {
    "name": "ipython",
    "version": 3
   },
   "file_extension": ".py",
   "mimetype": "text/x-python",
   "name": "python",
   "nbconvert_exporter": "python",
   "pygments_lexer": "ipython3",
   "version": "3.10.8"
  },
  "orig_nbformat": 4
 },
 "nbformat": 4,
 "nbformat_minor": 2
}
