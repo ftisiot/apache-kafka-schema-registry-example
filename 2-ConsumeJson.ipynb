{
 "cells": [
  {
   "attachments": {},
   "cell_type": "markdown",
   "metadata": {},
   "source": [
    "# Consume Messages in Plain JSON"
   ]
  },
  {
   "cell_type": "code",
   "execution_count": null,
   "metadata": {},
   "outputs": [],
   "source": [
    "import env\n",
    "import json\n",
    "# Import the required library\n",
    "from confluent_kafka import DeserializingConsumer\n",
    "from confluent_kafka.serialization import SerializationContext, MessageField, StringSerializer\n",
    "from confluent_kafka.schema_registry import SchemaRegistryClient\n",
    "from confluent_kafka.schema_registry.avro import AvroDeserializer\n",
    "\n",
    "# Configuring the Kafka consumer\n",
    "conf = {\n",
    "    \"bootstrap.servers\": env.KAFKA_SERVICE_URI,\n",
    "    \"security.protocol\": \"SSL\",\n",
    "    \"ssl.ca.location\": env.CERTIFICATES_FOLDER + \"/ca.pem\",\n",
    "    \"ssl.certificate.location\": env.CERTIFICATES_FOLDER + \"/service.cert\",\n",
    "    \"ssl.key.location\": env.CERTIFICATES_FOLDER + \"/service.key\",\n",
    "    'group.id': 'demo-consumer-group-1',\n",
    "    'auto.offset.reset': 'earliest'\n",
    "}\n",
    "\n",
    "consumer = DeserializingConsumer(\n",
    "    conf\n",
    ")\n",
    "\n",
    "# Subscribe to the Kafka topic\n",
    "consumer.subscribe([env.TOPIC_PREFIX])\n",
    "\n",
    "# Consume messages from the Kafka topic\n",
    "while True:\n",
    "    try:\n",
    "        msg = consumer.poll(1.0)\n",
    "\n",
    "        if msg is None:\n",
    "            continue\n",
    "\n",
    "        if msg.error():\n",
    "            print(\"Consumer error: {}\".format(msg.error()))\n",
    "            continue\n",
    "        \n",
    "        id = json.loads(msg.key().decode('utf-8'))[\"id\"]\n",
    "        name = json.loads(msg.value().decode('utf-8'))[\"name\"]\n",
    "        age = json.loads(msg.value().decode('utf-8'))[\"age\"]\n",
    "\n",
    "        if id is not None and name is not None and age is not None:\n",
    "            print(\n",
    "                \"id:   --> {}\\n\"\n",
    "                \"name: --> {}\\n\"\n",
    "                \"age:  --> {}\\n\"\n",
    "                \"------------------------------\".format(id, name, age)\n",
    "            )\n",
    "\n",
    "    except KeyboardInterrupt:\n",
    "            break\n",
    "\n",
    "    # Commit the offset for the message\n",
    "    consumer.commit()"
   ]
  }
 ],
 "metadata": {
  "kernelspec": {
   "display_name": "Python 3",
   "language": "python",
   "name": "python3"
  },
  "language_info": {
   "codemirror_mode": {
    "name": "ipython",
    "version": 3
   },
   "file_extension": ".py",
   "mimetype": "text/x-python",
   "name": "python",
   "nbconvert_exporter": "python",
   "pygments_lexer": "ipython3",
   "version": "3.10.8"
  },
  "orig_nbformat": 4
 },
 "nbformat": 4,
 "nbformat_minor": 2
}
